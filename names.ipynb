{
 "cells": [
  {
   "cell_type": "code",
   "execution_count": 1,
   "id": "initial_id",
   "metadata": {
    "collapsed": true,
    "ExecuteTime": {
     "end_time": "2024-04-16T23:50:09.570016Z",
     "start_time": "2024-04-16T23:50:08.302217Z"
    }
   },
   "outputs": [],
   "source": [
    "import pandas as pd\n",
    "\n",
    "# name_common,age,mlb_ID,player_ID,year_ID,team_ID,stint_ID,lg_ID,PA,G,Inn,runs_bat,runs_br,runs_dp,runs_field,runs_infield,runs_outfield,runs_catcher,runs_good_plays,runs_defense,runs_position,runs_position_p,runs_replacement,runs_above_rep,runs_above_avg,runs_above_avg_off,runs_above_avg_def,WAA,WAA_off,WAA_def,WAR,WAR_def,WAR_off,WAR_rep,salary,pitcher,teamRpG,oppRpG,oppRpPA_rep,oppRpG_rep,pyth_exponent,pyth_exponent_rep,waa_win_perc,waa_win_perc_off,waa_win_perc_def,waa_win_perc_rep,OPS_plus,TOB_lg,TB_lg\n",
    "# David Aardsma,22,430911,aardsda01,2004,SFG,1,NL,0,11,10.7,0.00,0.00,0.00,0.00,0.00,0.00,0.00,0.00,0.00,0.00,0.00,0.00,0.0,0.0,0.0,0.0,0.00,0.00,-0.01,0.00,-0.01,0.00,0.00,300000,Y,4.67092,4.67092,0.08651,4.67092,1.890,1.890,0.5000,0.5000,0.5000,0.5000,NULL,0.000,0.000\n",
    "\n",
    "# load the data\n",
    "df1 = pd.read_csv('war/war_daily_bat.txt', sep=',', header=0)\n",
    "df2 = pd.read_csv('war/war_daily_pitch.txt', sep=',', header=0)\n",
    "\n",
    "# get just the names\n",
    "names1 = df1['name_common']\n",
    "names2 = df2['name_common']\n",
    "\n",
    "# concat them\n",
    "names = pd.concat([names1, names2])\n",
    "\n",
    "# drop duplicates\n",
    "names = names.drop_duplicates()\n",
    "\n",
    "# save to a string\n",
    "full_mlb_names = '\\n'.join(names).lower()"
   ]
  },
  {
   "cell_type": "code",
   "outputs": [],
   "source": [
    "seen = set()\n",
    "uniq = []\n",
    "# for every name, split it by space and drop the last element. If this hasn't been seen before, add it to the list\n",
    "for name in names:\n",
    "    except_last = tuple(name.split(' ')[:-1])\n",
    "    if except_last in seen:\n",
    "        continue\n",
    "    uniq.append(name)\n",
    "    seen.add(except_last)\n",
    "\n",
    "uniq.sort()\n",
    "# Save it to mlb_names.txt\n",
    "with open('mlb.txt', 'w') as f:\n",
    "    for name in uniq:\n",
    "        f.write(name + '\\n')"
   ],
   "metadata": {
    "collapsed": false,
    "ExecuteTime": {
     "end_time": "2024-04-16T23:50:09.597852Z",
     "start_time": "2024-04-16T23:50:09.587875Z"
    }
   },
   "id": "48143b6bd835439c",
   "execution_count": 2
  },
  {
   "cell_type": "code",
   "outputs": [],
   "source": [
    "from collections import defaultdict\n",
    "\n",
    "cumulative_count = defaultdict(int)\n",
    "cumulative_percent = defaultdict(int) # didn't end up using this\n",
    "\n",
    "# for each file yob1901.txt through yob2000.txt\n",
    "for year in range(1901, 2001):\n",
    "    # read the file\n",
    "    with open(f'names/yob{year}.txt', 'r') as f:\n",
    "        lines = f.readlines()\n",
    "    # remove all the F's lines. Save the name and number\n",
    "    rows = [line.split(',') for line in lines]\n",
    "    rows = [(row[0], int(row[2])) for row in rows if row[1] == 'M']\n",
    "    # get the total number of babies\n",
    "    total = sum(row[1] for row in rows)\n",
    "    # for each row, add the percentage of babies to the cumulative percentage\n",
    "    for row in rows:\n",
    "        name, count = row\n",
    "        cumulative_count[name] += count\n",
    "        cumulative_percent[name] += count / total"
   ],
   "metadata": {
    "collapsed": false,
    "ExecuteTime": {
     "end_time": "2024-04-16T23:50:11.160502Z",
     "start_time": "2024-04-16T23:50:09.598062Z"
    }
   },
   "id": "e57e8541a8c97720",
   "execution_count": 3
  },
  {
   "cell_type": "code",
   "outputs": [
    {
     "data": {
      "text/plain": "['James',\n 'John',\n 'Robert',\n 'Michael',\n 'William',\n 'David',\n 'Richard',\n 'Joseph',\n 'Charles',\n 'Thomas']"
     },
     "execution_count": 4,
     "metadata": {},
     "output_type": "execute_result"
    }
   ],
   "source": [
    "# sort names by cumulative count\n",
    "count_sorted_names = sorted(cumulative_count.keys(), key=lambda x: cumulative_count[x], reverse=True)\n",
    "count_sorted_names[:10]"
   ],
   "metadata": {
    "collapsed": false,
    "ExecuteTime": {
     "end_time": "2024-04-16T23:50:11.178259Z",
     "start_time": "2024-04-16T23:50:11.169962Z"
    }
   },
   "id": "45eaf1060d8a7f79",
   "execution_count": 4
  },
  {
   "cell_type": "code",
   "outputs": [
    {
     "data": {
      "text/plain": "[('Kenneth', 17),\n ('Douglas', 46),\n ('Benjamin', 53),\n ('Zachary', 74),\n ('Jeffery', 126),\n ('Clinton', 239),\n ('Raul', 293),\n ('Clifton', 298),\n ('Johnathan', 305),\n ('Mathew', 314),\n ('Fredrick', 319),\n ('Jonathon', 335),\n ('Geoffrey', 344),\n ('Salvatore', 351),\n ('Edmund', 367),\n ('Delbert', 373),\n ('Nicolas', 385),\n ('Roderick', 389),\n ('Dominick', 409),\n ('Woodrow', 412),\n ('Bryant', 413),\n ('Laurence', 414),\n ('Maxwell', 420),\n ('Terence', 456),\n ('Billie', 462),\n ('Stewart', 481),\n ('Sebastian', 482),\n ('Wilfred', 492),\n ('Quentin', 497),\n ('Nickolas', 500),\n ('Trenton', 505),\n ('Demetrius', 513),\n ('August', 522),\n ('Timmy', 523),\n ('Eldon', 525),\n ('Stephan', 534),\n ('Cary', 538),\n ('Malik', 543),\n ('Zachery', 548),\n ('Avery', 551),\n ('Guadalupe', 557),\n ('Edmond', 558),\n ('Antoine', 569),\n ('Burton', 573),\n ('Rodger', 575),\n ('Lamont', 581),\n ('Tomas', 588),\n ('Sammie', 589),\n ('Solomon', 590),\n ('Elwood', 604)]"
     },
     "execution_count": 5,
     "metadata": {},
     "output_type": "execute_result"
    }
   ],
   "source": [
    "import re\n",
    "# open mlb.txt as one string\n",
    "with open('mlb.txt', 'r') as f:\n",
    "    mlb_names = '\\n' + f.read().lower()\n",
    "\n",
    "missing_names = []\n",
    "# for each of the count_sorted_names, if it's not in mlb_names, add it to missing_names with its index\n",
    "for i, name in enumerate(count_sorted_names):\n",
    "    lowered = name.lower()\n",
    "    # use regex\n",
    "    if re.search(f'\\n{lowered} ', mlb_names) is None:\n",
    "        missing_names.append((name, i))\n",
    "    if len(missing_names) == 50:\n",
    "        break\n",
    "\n",
    "missing_names"
   ],
   "metadata": {
    "collapsed": false,
    "ExecuteTime": {
     "end_time": "2024-04-16T23:50:11.219716Z",
     "start_time": "2024-04-16T23:50:11.180541Z"
    }
   },
   "id": "fb1ed5a5e9d8cbbb",
   "execution_count": 5
  },
  {
   "cell_type": "code",
   "outputs": [],
   "source": [
    "# quality check\n",
    "# for every missing name, see if it's in the string full_mlb_names\n",
    "for name, i in missing_names:\n",
    "    if f'\\n{name} ' in full_mlb_names:\n",
    "        print(name)"
   ],
   "metadata": {
    "collapsed": false,
    "ExecuteTime": {
     "end_time": "2024-04-16T23:50:11.236834Z",
     "start_time": "2024-04-16T23:50:11.231150Z"
    }
   },
   "id": "438a0e7455be003f",
   "execution_count": 6
  },
  {
   "cell_type": "code",
   "outputs": [
    {
     "name": "stdout",
     "output_type": "stream",
     "text": [
      "Kenneth: 17\n",
      "Douglas: 46\n",
      "Benjamin: 53\n",
      "Zachary: 74\n",
      "Jeffery: 126\n",
      "Clinton: 239\n",
      "Raul: 293\n",
      "Clifton: 298\n",
      "Johnathan: 305\n",
      "Mathew: 314\n",
      "Fredrick: 319\n",
      "Jonathon: 335\n",
      "Geoffrey: 344\n",
      "Salvatore: 351\n",
      "Edmund: 367\n",
      "Delbert: 373\n",
      "Nicolas: 385\n",
      "Roderick: 389\n",
      "Dominick: 409\n",
      "Woodrow: 412\n",
      "Bryant: 413\n",
      "Laurence: 414\n",
      "Maxwell: 420\n",
      "Terence: 456\n",
      "Billie: 462\n",
      "Stewart: 481\n",
      "Sebastian: 482\n",
      "Wilfred: 492\n",
      "Quentin: 497\n",
      "Nickolas: 500\n",
      "Trenton: 505\n",
      "Demetrius: 513\n",
      "August: 522\n",
      "Timmy: 523\n",
      "Eldon: 525\n",
      "Stephan: 534\n",
      "Cary: 538\n",
      "Malik: 543\n",
      "Zachery: 548\n",
      "Avery: 551\n",
      "Guadalupe: 557\n",
      "Edmond: 558\n",
      "Antoine: 569\n",
      "Burton: 573\n",
      "Rodger: 575\n",
      "Lamont: 581\n",
      "Tomas: 588\n",
      "Sammie: 589\n",
      "Solomon: 590\n",
      "Elwood: 604\n"
     ]
    }
   ],
   "source": [
    "# for every name, print the name and its rank\n",
    "for name, i in missing_names:\n",
    "    print(f'{name}: {i}')"
   ],
   "metadata": {
    "collapsed": false,
    "ExecuteTime": {
     "end_time": "2024-04-16T23:50:11.244074Z",
     "start_time": "2024-04-16T23:50:11.236213Z"
    }
   },
   "id": "62749bb02c13b95d",
   "execution_count": 7
  },
  {
   "cell_type": "code",
   "outputs": [],
   "source": [],
   "metadata": {
    "collapsed": false,
    "ExecuteTime": {
     "end_time": "2024-04-16T23:50:11.263665Z",
     "start_time": "2024-04-16T23:50:11.240190Z"
    }
   },
   "id": "b4996f463d7fb71d",
   "execution_count": 7
  }
 ],
 "metadata": {
  "kernelspec": {
   "display_name": "Python 3",
   "language": "python",
   "name": "python3"
  },
  "language_info": {
   "codemirror_mode": {
    "name": "ipython",
    "version": 2
   },
   "file_extension": ".py",
   "mimetype": "text/x-python",
   "name": "python",
   "nbconvert_exporter": "python",
   "pygments_lexer": "ipython2",
   "version": "2.7.6"
  }
 },
 "nbformat": 4,
 "nbformat_minor": 5
}
